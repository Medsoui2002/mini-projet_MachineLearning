{
 "cells": [
  {
   "cell_type": "code",
   "execution_count": 36,
   "id": "9952dbfc",
   "metadata": {},
   "outputs": [],
   "source": [
    "import pandas as pd\n",
    "import numpy as np\n",
    "import matplotlib.pyplot as plt"
   ]
  },
  {
   "cell_type": "code",
   "execution_count": 37,
   "id": "117dd495",
   "metadata": {},
   "outputs": [],
   "source": [
    "from sklearn.model_selection import train_test_split, cross_val_score, GridSearchCV\n",
    "from sklearn.linear_model import LinearRegression, Ridge, Lasso\n",
    "from sklearn.tree import DecisionTreeRegressor\n",
    "from sklearn.ensemble import RandomForestRegressor, GradientBoostingRegressor\n",
    "from sklearn.metrics import mean_squared_error, r2_score"
   ]
  },
  {
   "cell_type": "markdown",
   "id": "0296f90e",
   "metadata": {},
   "source": [
    "# 1- Charge de dataset"
   ]
  },
  {
   "cell_type": "code",
   "execution_count": 38,
   "id": "d8d61a6b",
   "metadata": {},
   "outputs": [],
   "source": [
    "data = pd.read_csv(\"Housing.csv\")"
   ]
  },
  {
   "cell_type": "markdown",
   "id": "f731602b",
   "metadata": {},
   "source": [
    "# 2- Vérifier les valeurs manquantes"
   ]
  },
  {
   "cell_type": "code",
   "execution_count": 39,
   "id": "7586f34b",
   "metadata": {},
   "outputs": [
    {
     "name": "stdout",
     "output_type": "stream",
     "text": [
      "CRIM       0\n",
      "ZN         0\n",
      "INDUS      3\n",
      "CHAS       0\n",
      "NOX        2\n",
      "RM         0\n",
      "AGE        1\n",
      "DIS        0\n",
      "RAD        1\n",
      "TAX        0\n",
      "PTRATIO    0\n",
      "B          0\n",
      "LSTAT      1\n",
      "MEDV       0\n",
      "dtype: int64\n"
     ]
    }
   ],
   "source": [
    "print(data.isnull().sum())"
   ]
  },
  {
   "cell_type": "code",
   "execution_count": 40,
   "id": "d97ab33c",
   "metadata": {},
   "outputs": [],
   "source": [
    "data.fillna(data.mean(), inplace=True)"
   ]
  },
  {
   "cell_type": "markdown",
   "id": "c7442794",
   "metadata": {},
   "source": [
    "Vérifier les doublons"
   ]
  },
  {
   "cell_type": "code",
   "execution_count": 41,
   "id": "8bd55fef",
   "metadata": {},
   "outputs": [
    {
     "name": "stdout",
     "output_type": "stream",
     "text": [
      "4\n"
     ]
    }
   ],
   "source": [
    "print(data.duplicated().sum())"
   ]
  },
  {
   "cell_type": "code",
   "execution_count": 42,
   "id": "bf420003",
   "metadata": {},
   "outputs": [],
   "source": [
    "data.drop_duplicates(inplace=True)"
   ]
  },
  {
   "cell_type": "markdown",
   "id": "7d8e043c",
   "metadata": {},
   "source": [
    "# 3- Diviser les données en features et target"
   ]
  },
  {
   "cell_type": "code",
   "execution_count": 43,
   "id": "f3f1016f",
   "metadata": {},
   "outputs": [],
   "source": [
    "X = data.drop(\"MEDV\", axis=1)\n",
    "y = data[\"MEDV\"]"
   ]
  },
  {
   "cell_type": "markdown",
   "id": "523971d5",
   "metadata": {},
   "source": [
    "# 4- Diviser les données en ensembles d'apprentissage et de test"
   ]
  },
  {
   "cell_type": "code",
   "execution_count": 44,
   "id": "4e605585",
   "metadata": {},
   "outputs": [],
   "source": [
    "X_train, X_test, y_train, y_test = train_test_split(X, y, test_size=0.2, random_state=42)"
   ]
  },
  {
   "cell_type": "markdown",
   "id": "6332cd0b",
   "metadata": {},
   "source": [
    "# 5- Créer un modèle de régression linéaire et ajuster les données de formation"
   ]
  },
  {
   "cell_type": "code",
   "execution_count": 45,
   "id": "880f0366",
   "metadata": {},
   "outputs": [
    {
     "data": {
      "text/plain": [
       "LinearRegression()"
      ]
     },
     "execution_count": 45,
     "metadata": {},
     "output_type": "execute_result"
    }
   ],
   "source": [
    "lr_model = LinearRegression()\n",
    "lr_model.fit(X_train, y_train)"
   ]
  },
  {
   "cell_type": "markdown",
   "id": "3ec7ee9a",
   "metadata": {},
   "source": [
    "# 6- Faire des prédictions sur les données de test à l'aide du modèle de régression linéaire"
   ]
  },
  {
   "cell_type": "code",
   "execution_count": 46,
   "id": "56733647",
   "metadata": {},
   "outputs": [],
   "source": [
    "lr_predictions = lr_model.predict(X_test)"
   ]
  },
  {
   "cell_type": "markdown",
   "id": "872cff4a",
   "metadata": {},
   "source": [
    "# 7- Évaluer le modèle de régression linéaire à l'aide des mesures d'erreur quadratique moyenne et de R-carré"
   ]
  },
  {
   "cell_type": "code",
   "execution_count": 47,
   "id": "05d62b1d",
   "metadata": {},
   "outputs": [
    {
     "name": "stdout",
     "output_type": "stream",
     "text": [
      "Performances du modèle de régression linéaire:\n",
      "Mean Squared Error: 20.350143125734043\n",
      "R-Squared Score: 0.6582109561316328\n"
     ]
    }
   ],
   "source": [
    "lr_mse = mean_squared_error(y_test, lr_predictions)\n",
    "lr_r2 = r2_score(y_test, lr_predictions)\n",
    "print(\"Performances du modèle de régression linéaire:\")\n",
    "print(\"Mean Squared Error:\", lr_mse)\n",
    "print(\"R-Squared Score:\", lr_r2)"
   ]
  },
  {
   "cell_type": "markdown",
   "id": "59fb8456",
   "metadata": {},
   "source": [
    "# 8- Créez un modèle de régression Ridge et utilisez la validation croisée pour trouver la meilleure valeur alpha"
   ]
  },
  {
   "cell_type": "code",
   "execution_count": 48,
   "id": "eb1cdef1",
   "metadata": {},
   "outputs": [
    {
     "name": "stdout",
     "output_type": "stream",
     "text": [
      "Meilleure valeur alpha pour Ridge Regression: 0.01\n"
     ]
    }
   ],
   "source": [
    "ridge_model = Ridge()\n",
    "params_ridge = {'alpha': [0.01, 0.1, 1, 10, 100]}\n",
    "grid_ridge = GridSearchCV(ridge_model, params_ridge, cv=5)\n",
    "grid_ridge.fit(X_train, y_train)\n",
    "print(\"Meilleure valeur alpha pour Ridge Regression:\", grid_ridge.best_params_['alpha'])"
   ]
  },
  {
   "cell_type": "markdown",
   "id": "b93a92db",
   "metadata": {},
   "source": [
    "# 9- Entraînez le modèle de régression Ridge en utilisant la meilleure valeur alpha"
   ]
  },
  {
   "cell_type": "code",
   "execution_count": 49,
   "id": "fcb5f449",
   "metadata": {},
   "outputs": [
    {
     "data": {
      "text/plain": [
       "Ridge(alpha=0.01)"
      ]
     },
     "execution_count": 49,
     "metadata": {},
     "output_type": "execute_result"
    }
   ],
   "source": [
    "ridge_model = Ridge(alpha=grid_ridge.best_params_['alpha'])\n",
    "ridge_model.fit(X_train, y_train)"
   ]
  },
  {
   "cell_type": "markdown",
   "id": "a72f6192",
   "metadata": {},
   "source": [
    "# 10- Faire des prédictions sur les données de test à l'aide du modèle de régression Ridge"
   ]
  },
  {
   "cell_type": "code",
   "execution_count": 50,
   "id": "b44a1538",
   "metadata": {},
   "outputs": [],
   "source": [
    "ridge_predictions = ridge_model.predict(X_test)"
   ]
  },
  {
   "cell_type": "markdown",
   "id": "8eed8043",
   "metadata": {},
   "source": [
    "# 11- Évaluer le modèle de régression Ridge à l'aide des métriques Mean Squared Error et R-Squared"
   ]
  },
  {
   "cell_type": "code",
   "execution_count": 51,
   "id": "98830bd7",
   "metadata": {},
   "outputs": [
    {
     "name": "stdout",
     "output_type": "stream",
     "text": [
      "Performances du modèle de régression Ridge:\n",
      "Mean Squared Error: 20.3562272246266\n",
      "R-Squared Score: 0.6581087711823457\n"
     ]
    }
   ],
   "source": [
    "ridge_mse = mean_squared_error(y_test, ridge_predictions)\n",
    "ridge_r2 = r2_score(y_test, ridge_predictions)\n",
    "print(\"Performances du modèle de régression Ridge:\")\n",
    "print(\"Mean Squared Error:\", ridge_mse)\n",
    "print(\"R-Squared Score:\", ridge_r2)"
   ]
  },
  {
   "cell_type": "markdown",
   "id": "4af8d308",
   "metadata": {},
   "source": [
    "# 12- Créez un modèle de régression Lasso et utilisez la validation croisée pour trouver la meilleure valeur alpha"
   ]
  },
  {
   "cell_type": "code",
   "execution_count": 52,
   "id": "131d463a",
   "metadata": {},
   "outputs": [
    {
     "name": "stdout",
     "output_type": "stream",
     "text": [
      "Meilleure valeur alpha pour la régression au lasso: 0.01\n"
     ]
    }
   ],
   "source": [
    "lasso_model = Lasso()\n",
    "params_lasso = {'alpha': [0.01, 0.1, 1, 10, 100]}\n",
    "grid_lasso = GridSearchCV(lasso_model, params_lasso, cv=5)\n",
    "grid_lasso.fit(X_train, y_train)\n",
    "print(\"Meilleure valeur alpha pour la régression au lasso:\", grid_lasso.best_params_['alpha'])"
   ]
  },
  {
   "cell_type": "markdown",
   "id": "c5966d9d",
   "metadata": {},
   "source": [
    "# 13- Entraînez le modèle de régression Lasso en utilisant la meilleure valeur alpha"
   ]
  },
  {
   "cell_type": "code",
   "execution_count": 53,
   "id": "b3247f37",
   "metadata": {},
   "outputs": [
    {
     "data": {
      "text/plain": [
       "Lasso(alpha=0.01)"
      ]
     },
     "execution_count": 53,
     "metadata": {},
     "output_type": "execute_result"
    }
   ],
   "source": [
    "lasso_model = Lasso(alpha=grid_lasso.best_params_['alpha'])\n",
    "lasso_model.fit(X_train, y_train)"
   ]
  },
  {
   "cell_type": "markdown",
   "id": "0ea569dd",
   "metadata": {},
   "source": [
    "# 14- Faire des prédictions sur les données de test à l'aide du modèle de régression Lasso"
   ]
  },
  {
   "cell_type": "code",
   "execution_count": 54,
   "id": "b7b0efb6",
   "metadata": {},
   "outputs": [],
   "source": [
    "lasso_predictions = lasso_model.predict(X_test)"
   ]
  },
  {
   "cell_type": "markdown",
   "id": "e0b51f72",
   "metadata": {},
   "source": [
    "# 15- Évaluer le modèle de régression Lasso à l'aide des métriques Mean Squared Error et R-Squared"
   ]
  },
  {
   "cell_type": "code",
   "execution_count": 55,
   "id": "f64ae460",
   "metadata": {},
   "outputs": [
    {
     "name": "stdout",
     "output_type": "stream",
     "text": [
      "Performances du modèle de régression au lasso:\n",
      "Mean Squared Error: 20.478074863230326\n",
      "R-Squared Score: 0.6560622898559653\n"
     ]
    }
   ],
   "source": [
    "lasso_mse = mean_squared_error(y_test, lasso_predictions)\n",
    "lasso_r2 = r2_score(y_test, lasso_predictions)\n",
    "print(\"Performances du modèle de régression au lasso:\")\n",
    "print(\"Mean Squared Error:\", lasso_mse)\n",
    "print(\"R-Squared Score:\", lasso_r2)"
   ]
  },
  {
   "cell_type": "markdown",
   "id": "3c098dd1",
   "metadata": {},
   "source": [
    "# 16- Créez un modèle de régression d'arbre de décision et utilisez la validation croisée pour trouver les meilleurs hyperparamètres"
   ]
  },
  {
   "cell_type": "code",
   "execution_count": 56,
   "id": "1b14e106",
   "metadata": {},
   "outputs": [
    {
     "name": "stdout",
     "output_type": "stream",
     "text": [
      "Meilleurs hyperparamètres pour la régression d'arbre de décision: {'max_depth': 7, 'min_samples_split': 5}\n"
     ]
    }
   ],
   "source": [
    "dt_model = DecisionTreeRegressor()\n",
    "params_dt = {'max_depth': [2, 3, 4, 5, 6, 7, 8, 9, 10], 'min_samples_split': [2, 3, 4, 5, 6, 7, 8, 9, 10]}\n",
    "grid_dt = GridSearchCV(dt_model, params_dt, cv=5)\n",
    "grid_dt.fit(X_train, y_train)\n",
    "print(\"Meilleurs hyperparamètres pour la régression d'arbre de décision:\", grid_dt.best_params_)"
   ]
  },
  {
   "cell_type": "markdown",
   "id": "731d466b",
   "metadata": {},
   "source": [
    "# 17- Train the Decision Tree Regression model using the best hyperparameters"
   ]
  },
  {
   "cell_type": "code",
   "execution_count": 57,
   "id": "5dc29422",
   "metadata": {},
   "outputs": [
    {
     "data": {
      "text/plain": [
       "DecisionTreeRegressor(max_depth=7, min_samples_split=5)"
      ]
     },
     "execution_count": 57,
     "metadata": {},
     "output_type": "execute_result"
    }
   ],
   "source": [
    "dt_model = DecisionTreeRegressor(max_depth=grid_dt.best_params_['max_depth'], \n",
    "                                  min_samples_split=grid_dt.best_params_['min_samples_split'])\n",
    "dt_model.fit(X_train, y_train)"
   ]
  },
  {
   "cell_type": "markdown",
   "id": "55ed770c",
   "metadata": {},
   "source": [
    "# 18- Faire des prédictions sur les données de test à l'aide du modèle de régression d'arbre de décision"
   ]
  },
  {
   "cell_type": "code",
   "execution_count": 58,
   "id": "9f0b3dcb",
   "metadata": {},
   "outputs": [],
   "source": [
    "dt_predictions = dt_model.predict(X_test)"
   ]
  },
  {
   "cell_type": "markdown",
   "id": "587db6ca",
   "metadata": {},
   "source": [
    "# 19- Évaluer le modèle de régression de l'arbre de décision à l'aide des mesures de l'erreur quadratique moyenne et du R-carré"
   ]
  },
  {
   "cell_type": "code",
   "execution_count": 59,
   "id": "3e3a9283",
   "metadata": {},
   "outputs": [
    {
     "name": "stdout",
     "output_type": "stream",
     "text": [
      "Performances du modèle de régression d'arbre de décision:\n",
      "Mean Squared Error: 35.900438520087576\n",
      "R-Squared Score: 0.39703733382006723\n"
     ]
    }
   ],
   "source": [
    "dt_mse = mean_squared_error(y_test, dt_predictions)\n",
    "dt_r2 = r2_score(y_test, dt_predictions)\n",
    "print(\"Performances du modèle de régression d'arbre de décision:\")\n",
    "print(\"Mean Squared Error:\", dt_mse)\n",
    "print(\"R-Squared Score:\", dt_r2)"
   ]
  },
  {
   "cell_type": "markdown",
   "id": "2befad6e",
   "metadata": {},
   "source": [
    "# 20- Créez un modèle de régression de forêt aléatoire et utilisez la validation croisée pour trouver les meilleurs hyperparamètres"
   ]
  },
  {
   "cell_type": "code",
   "execution_count": 60,
   "id": "443faaf1",
   "metadata": {},
   "outputs": [
    {
     "name": "stdout",
     "output_type": "stream",
     "text": [
      "Meilleurs hyperparamètres pour la régression de forêt aléatoire: {'max_depth': 10, 'min_samples_split': 2, 'n_estimators': 300}\n"
     ]
    }
   ],
   "source": [
    "rf_model = RandomForestRegressor()\n",
    "params_rf = {'n_estimators': [50, 100, 200, 300], 'max_depth': [2, 3, 4, 5, 6, 7, 8, 9, 10], \n",
    "             'min_samples_split': [2, 3, 4, 5, 6, 7, 8, 9, 10]}\n",
    "grid_rf = GridSearchCV(rf_model, params_rf, cv=5)\n",
    "grid_rf.fit(X_train, y_train)\n",
    "print(\"Meilleurs hyperparamètres pour la régression de forêt aléatoire:\", grid_rf.best_params_)"
   ]
  },
  {
   "cell_type": "markdown",
   "id": "dd0abd04",
   "metadata": {},
   "source": [
    "# 21- Entraînez le modèle de régression de forêt aléatoire en utilisant les meilleurs hyperparamètres"
   ]
  },
  {
   "cell_type": "code",
   "execution_count": 61,
   "id": "3802baeb",
   "metadata": {},
   "outputs": [
    {
     "data": {
      "text/plain": [
       "RandomForestRegressor(max_depth=10, n_estimators=300)"
      ]
     },
     "execution_count": 61,
     "metadata": {},
     "output_type": "execute_result"
    }
   ],
   "source": [
    "rf_model = RandomForestRegressor(n_estimators=grid_rf.best_params_['n_estimators'], \n",
    "                                  max_depth=grid_rf.best_params_['max_depth'], \n",
    "                                  min_samples_split=grid_rf.best_params_['min_samples_split'])\n",
    "rf_model.fit(X_train, y_train)"
   ]
  },
  {
   "cell_type": "markdown",
   "id": "6b4be880",
   "metadata": {},
   "source": [
    "# 22- Faire des prédictions sur les données de test à l'aide du modèle de régression de forêt aléatoire"
   ]
  },
  {
   "cell_type": "code",
   "execution_count": 62,
   "id": "4cdcd97f",
   "metadata": {},
   "outputs": [],
   "source": [
    "rf_predictions = rf_model.predict(X_test)"
   ]
  },
  {
   "cell_type": "markdown",
   "id": "925f983e",
   "metadata": {},
   "source": [
    "# 23- Évaluer le modèle de régression de forêt aléatoire à l'aide des métriques d'erreur quadratique moyenne et de R-carré"
   ]
  },
  {
   "cell_type": "code",
   "execution_count": 63,
   "id": "92d00b9f",
   "metadata": {},
   "outputs": [
    {
     "name": "stdout",
     "output_type": "stream",
     "text": [
      "Performances du modèle de régression de forêt aléatoire:\n",
      "Mean Squared Error: 18.40665047611712\n",
      "R-Squared Score: 0.6908527164560485\n"
     ]
    }
   ],
   "source": [
    "rf_mse = mean_squared_error(y_test, rf_predictions)\n",
    "rf_r2 = r2_score(y_test, rf_predictions)\n",
    "print(\"Performances du modèle de régression de forêt aléatoire:\")\n",
    "print(\"Mean Squared Error:\", rf_mse)\n",
    "print(\"R-Squared Score:\", rf_r2)"
   ]
  },
  {
   "cell_type": "markdown",
   "id": "2be19463",
   "metadata": {},
   "source": [
    "# 24- Créez un modèle Gradient Boosting Regression et utilisez la validation croisée pour trouver les meilleurs hyperparamètres"
   ]
  },
  {
   "cell_type": "code",
   "execution_count": 64,
   "id": "d02106c0",
   "metadata": {},
   "outputs": [
    {
     "name": "stdout",
     "output_type": "stream",
     "text": [
      "Meilleurs hyperparamètres pour Gradient Boosting Regression: {'learning_rate': 0.1, 'max_depth': 3, 'n_estimators': 200}\n"
     ]
    }
   ],
   "source": [
    "gb_model = GradientBoostingRegressor()\n",
    "params_gb = {\n",
    "    'n_estimators': [50, 100, 200],\n",
    "    'max_depth': [2, 3, 4],\n",
    "    'learning_rate': [0.01, 0.1, 1]\n",
    "}\n",
    "grid_gb = GridSearchCV(gb_model, params_gb, cv=5)\n",
    "grid_gb.fit(X_train, y_train)\n",
    "print(\"Meilleurs hyperparamètres pour Gradient Boosting Regression:\", grid_gb.best_params_)\n"
   ]
  },
  {
   "cell_type": "markdown",
   "id": "5268682e",
   "metadata": {},
   "source": [
    "# 25- Entraînez le modèle Gradient Boosting Regression en utilisant les meilleurs hyperparamètres"
   ]
  },
  {
   "cell_type": "code",
   "execution_count": 65,
   "id": "1802470a",
   "metadata": {},
   "outputs": [
    {
     "data": {
      "text/plain": [
       "GradientBoostingRegressor(n_estimators=200)"
      ]
     },
     "execution_count": 65,
     "metadata": {},
     "output_type": "execute_result"
    }
   ],
   "source": [
    "gb_model = GradientBoostingRegressor(n_estimators=grid_gb.best_params_['n_estimators'], \n",
    "                                      max_depth=grid_gb.best_params_['max_depth'], \n",
    "                                      learning_rate=grid_gb.best_params_['learning_rate'])\n",
    "gb_model.fit(X_train, y_train)"
   ]
  },
  {
   "cell_type": "markdown",
   "id": "3eafa862",
   "metadata": {},
   "source": [
    "# 26- Faire des prédictions sur les données de test à l'aide du modèle Gradient Boosting Regression"
   ]
  },
  {
   "cell_type": "code",
   "execution_count": 66,
   "id": "5dcd0639",
   "metadata": {},
   "outputs": [],
   "source": [
    "gb_predictions = gb_model.predict(X_test)"
   ]
  },
  {
   "cell_type": "markdown",
   "id": "a9a31d34",
   "metadata": {},
   "source": [
    "# 28- Évaluer le modèle Gradient Boosting Regression à l'aide des métriques Mean Squared Error et R-Squared"
   ]
  },
  {
   "cell_type": "code",
   "execution_count": 67,
   "id": "b01d7fe9",
   "metadata": {},
   "outputs": [
    {
     "name": "stdout",
     "output_type": "stream",
     "text": [
      "Gradient Boosting Performance du modèle de régression:\n",
      "Mean Squared Error: 16.7017675000795\n",
      "R-Squared Score: 0.7194869289373593\n"
     ]
    }
   ],
   "source": [
    "gb_mse = mean_squared_error(y_test, gb_predictions)\n",
    "gb_r2 = r2_score(y_test, gb_predictions)\n",
    "print(\"Gradient Boosting Performance du modèle de régression:\")\n",
    "print(\"Mean Squared Error:\", gb_mse)\n",
    "print(\"R-Squared Score:\", gb_r2)"
   ]
  },
  {
   "cell_type": "markdown",
   "id": "72002103",
   "metadata": {},
   "source": [
    "# 29- Comparez les performances de tous les modèles à l'aide d'un graphique à barres"
   ]
  },
  {
   "cell_type": "code",
   "execution_count": 68,
   "id": "2daf553f",
   "metadata": {},
   "outputs": [
    {
     "data": {
      "image/png": "[encoded data removed]",
      "text/plain": [
       "<Figure size 1000x600 with 1 Axes>"
      ]
     },
     "metadata": {},
     "output_type": "display_data"
    }
   ],
   "source": [
    "model_names = ['Linear Regression', 'Ridge Regression', 'Lasso Regression', 'Decision Tree Regression', \n",
    "               'Random Forest Regression', 'Gradient Boosting Regression']\n",
    "mse_scores = [lr_mse, ridge_mse, lasso_mse, dt_mse, rf_mse, gb_mse]\n",
    "r2_scores = [lr_r2, ridge_r2, lasso_r2, dt_r2, rf_r2, gb_r2]\n",
    "\n",
    "fig, ax = plt.subplots(figsize=(10, 6))\n",
    "ax.bar(model_names, mse_scores, label='Mean Squared Error')\n",
    "ax.bar(model_names, r2_scores, label='R-Squared Score')\n",
    "ax.set(title='Comparaison des performances des modèles', xlabel='Models', ylabel='Scores')\n",
    "ax.legend()\n",
    "\n",
    "plt.show()"
   ]
  },
  {
   "cell_type": "code",
   "execution_count": null,
   "id": "58c57802",
   "metadata": {},
   "outputs": [],
   "source": []
  },
  {
   "cell_type": "code",
   "execution_count": null,
   "id": "276090a3",
   "metadata": {},
   "outputs": [],
   "source": []
  },
  {
   "cell_type": "code",
   "execution_count": null,
   "id": "c6cd0331",
   "metadata": {},
   "outputs": [],
   "source": []
  }
 ],
 "metadata": {
  "kernelspec": {
   "display_name": "Python 3 (ipykernel)",
   "language": "python",
   "name": "python3"
  },
  "language_info": {
   "codemirror_mode": {
    "name": "ipython",
    "version": 3
   },
   "file_extension": ".py",
   "mimetype": "text/x-python",
   "name": "python",
   "nbconvert_exporter": "python",
   "pygments_lexer": "ipython3",
   "version": "3.9.13"
  }
 },
 "nbformat": 4,
 "nbformat_minor": 5
}
